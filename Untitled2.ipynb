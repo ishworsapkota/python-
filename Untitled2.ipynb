{
 "cells": [
  {
   "cell_type": "code",
   "execution_count": null,
   "id": "649bf295-9c1b-4a2d-9f68-7acdb3fc06bc",
   "metadata": {},
   "outputs": [],
   "source": [
    "1. Write a Python program to print \"Hello Python\"?"
   ]
  },
  {
   "cell_type": "code",
   "execution_count": 1,
   "id": "0f100a6a-5f35-4fce-9cd0-2911c69a635b",
   "metadata": {},
   "outputs": [
    {
     "name": "stdout",
     "output_type": "stream",
     "text": [
      "Hello Python\n"
     ]
    }
   ],
   "source": [
    "print(\"Hello Python\")"
   ]
  },
  {
   "cell_type": "code",
   "execution_count": null,
   "id": "d7db601d-0a72-419a-9358-085d23645782",
   "metadata": {},
   "outputs": [],
   "source": [
    "2. Write a Python program to do arithmetical operations addition and division.?"
   ]
  },
  {
   "cell_type": "code",
   "execution_count": 2,
   "id": "9fedb9a1-cca7-48ca-8a58-2615f85e2809",
   "metadata": {},
   "outputs": [
    {
     "name": "stdin",
     "output_type": "stream",
     "text": [
      "Enter first number:  25\n",
      "Enter second number:  5\n"
     ]
    },
    {
     "name": "stdout",
     "output_type": "stream",
     "text": [
      "Sum: 30.0\n",
      "Division: 5.0\n"
     ]
    }
   ],
   "source": [
    "def addition(a, b):\n",
    "    return a + b\n",
    "\n",
    "def division(a, b):\n",
    "    if b == 0:\n",
    "        return \"Division by zero is not allowed.\"\n",
    "    else:\n",
    "        return a / b\n",
    "\n",
    "# Taking user input for two numbers\n",
    "num1 = float(input(\"Enter first number: \"))\n",
    "num2 = float(input(\"Enter second number: \"))\n",
    "\n",
    "# Performing addition\n",
    "sum_result = addition(num1, num2)\n",
    "print(\"Sum:\", sum_result)\n",
    "\n",
    "# Performing division\n",
    "division_result = division(num1, num2)\n",
    "print(\"Division:\", division_result)\n"
   ]
  },
  {
   "cell_type": "code",
   "execution_count": null,
   "id": "0e4cde23-42f6-4010-b7f7-bd2ddfdad76a",
   "metadata": {},
   "outputs": [],
   "source": [
    "3. Write a Python program to find the area of a triangle?"
   ]
  },
  {
   "cell_type": "code",
   "execution_count": 3,
   "id": "85355b4f-6022-4914-b03f-33678b949a4c",
   "metadata": {},
   "outputs": [
    {
     "name": "stdin",
     "output_type": "stream",
     "text": [
      "Enter the base length of the triangle:  10\n",
      "Enter the height of the triangle:  5\n"
     ]
    },
    {
     "name": "stdout",
     "output_type": "stream",
     "text": [
      "The area of the triangle is: 25.0\n"
     ]
    }
   ],
   "source": [
    "def triangle_area(base, height):\n",
    "    return 0.5 * base * height\n",
    "\n",
    "# Taking user input for base and height of the triangle\n",
    "base = float(input(\"Enter the base length of the triangle: \"))\n",
    "height = float(input(\"Enter the height of the triangle: \"))\n",
    "\n",
    "# Calculating the area of the triangle\n",
    "area = triangle_area(base, height)\n",
    "\n",
    "# Displaying the area of the triangle\n",
    "print(\"The area of the triangle is:\", area)\n"
   ]
  },
  {
   "cell_type": "code",
   "execution_count": null,
   "id": "f6e58d3b-dda1-4176-b6e7-8f00aa75895f",
   "metadata": {},
   "outputs": [],
   "source": [
    "4. Write a Python program to swap two variables?"
   ]
  },
  {
   "cell_type": "code",
   "execution_count": 5,
   "id": "3490cdd7-1a40-4624-89a6-4333ef9c2b82",
   "metadata": {},
   "outputs": [
    {
     "name": "stdin",
     "output_type": "stream",
     "text": [
      "Enter value of x:  A\n",
      "Enter value of y:  B\n"
     ]
    },
    {
     "name": "stdout",
     "output_type": "stream",
     "text": [
      "After swapping:\n",
      "x = B\n",
      "y = A\n"
     ]
    }
   ],
   "source": [
    "def swap_without_temp(a, b):\n",
    "    return b, a\n",
    "\n",
    "# Taking user input for two variables\n",
    "x = input(\"Enter value of x: \")\n",
    "y = input(\"Enter value of y: \")\n",
    "\n",
    "# Swapping variables\n",
    "x, y = swap_without_temp(x, y)\n",
    "\n",
    "print(\"After swapping:\")\n",
    "print(\"x =\", x)\n",
    "print(\"y =\", y)\n"
   ]
  },
  {
   "cell_type": "code",
   "execution_count": null,
   "id": "fa715645-04dc-4467-bc0e-0bbbf6cb6e96",
   "metadata": {},
   "outputs": [],
   "source": [
    "5. Write a Python program to generate a random number?"
   ]
  },
  {
   "cell_type": "code",
   "execution_count": 6,
   "id": "38580b0a-9492-4303-a4b9-9ec4f85e9003",
   "metadata": {},
   "outputs": [
    {
     "name": "stdin",
     "output_type": "stream",
     "text": [
      "Enter the start of the range:  10\n",
      "Enter the end of the range:  20\n"
     ]
    },
    {
     "name": "stdout",
     "output_type": "stream",
     "text": [
      "Random number between 10 and 20 : 12\n"
     ]
    }
   ],
   "source": [
    "import random\n",
    "\n",
    "def generate_random_number(start, end):\n",
    "    return random.randint(start, end)\n",
    "\n",
    "# Taking user input for the range of random numbers\n",
    "start = int(input(\"Enter the start of the range: \"))\n",
    "end = int(input(\"Enter the end of the range: \"))\n",
    "\n",
    "# Generating a random number in the specified range\n",
    "random_number = generate_random_number(start, end)\n",
    "\n",
    "# Displaying the generated random number\n",
    "print(\"Random number between\", start, \"and\", end, \":\", random_number)\n"
   ]
  },
  {
   "cell_type": "code",
   "execution_count": null,
   "id": "c8abb663-df88-43c7-aafb-004e64173953",
   "metadata": {},
   "outputs": [],
   "source": []
  }
 ],
 "metadata": {
  "kernelspec": {
   "display_name": "Python 3 (ipykernel)",
   "language": "python",
   "name": "python3"
  },
  "language_info": {
   "codemirror_mode": {
    "name": "ipython",
    "version": 3
   },
   "file_extension": ".py",
   "mimetype": "text/x-python",
   "name": "python",
   "nbconvert_exporter": "python",
   "pygments_lexer": "ipython3",
   "version": "3.11.7"
  }
 },
 "nbformat": 4,
 "nbformat_minor": 5
}
